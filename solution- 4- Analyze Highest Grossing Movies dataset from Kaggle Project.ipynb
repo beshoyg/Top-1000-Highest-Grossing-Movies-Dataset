{
 "cells": [
  {
   "cell_type": "markdown",
   "metadata": {},
   "source": [
    "# Highest Grossing Movies Exercise - Solutions\n",
    "\n",
    "Welcome to a quick exercise for you to practice your pandas skills! We will be using the [Highest Holywood Grossing Movies Dataset](https://www.kaggle.com/sanjeetsinghnaik/top-1000-highest-grossing-movies) from Kaggle! Just follow along and complete the tasks outlined in bold below. The tasks will get harder and harder as you go along."
   ]
  },
  {
   "cell_type": "markdown",
   "metadata": {},
   "source": [
    "**Import pandas as pd.**"
   ]
  },
  {
   "cell_type": "code",
   "execution_count": 1,
   "metadata": {},
   "outputs": [],
   "source": [
    "import pandas as pd"
   ]
  },
  {
   "cell_type": "markdown",
   "metadata": {},
   "source": [
    "**Read Highest Holywood Grossing Movies.csv as a dataframe called movies.**"
   ]
  },
  {
   "cell_type": "code",
   "execution_count": 2,
   "metadata": {},
   "outputs": [],
   "source": [
    "df = pd.read_csv('Highest Holywood Grossing Movies.csv')\n",
    "df.drop(\"Unnamed: 0\",axis=1, inplace = True)\n",
    "df.rename(columns ={'Domestic Sales (in $)':'Domestic_sales', 'International Sales (in $)': 'International_sales', 'World Sales (in $)': 'World_sales'}, inplace = True)"
   ]
  },
  {
   "cell_type": "markdown",
   "metadata": {},
   "source": [
    "**Check the head of the DataFrame.**"
   ]
  },
  {
   "cell_type": "code",
   "execution_count": 3,
   "metadata": {},
   "outputs": [
    {
     "data": {
      "text/html": [
       "<div>\n",
       "<style scoped>\n",
       "    .dataframe tbody tr th:only-of-type {\n",
       "        vertical-align: middle;\n",
       "    }\n",
       "\n",
       "    .dataframe tbody tr th {\n",
       "        vertical-align: top;\n",
       "    }\n",
       "\n",
       "    .dataframe thead th {\n",
       "        text-align: right;\n",
       "    }\n",
       "</style>\n",
       "<table border=\"1\" class=\"dataframe\">\n",
       "  <thead>\n",
       "    <tr style=\"text-align: right;\">\n",
       "      <th></th>\n",
       "      <th>Title</th>\n",
       "      <th>Movie Info</th>\n",
       "      <th>Distributor</th>\n",
       "      <th>Release Date</th>\n",
       "      <th>Domestic_sales</th>\n",
       "      <th>International_sales</th>\n",
       "      <th>World_sales</th>\n",
       "      <th>Genre</th>\n",
       "      <th>Movie Runtime</th>\n",
       "      <th>License</th>\n",
       "    </tr>\n",
       "  </thead>\n",
       "  <tbody>\n",
       "    <tr>\n",
       "      <th>0</th>\n",
       "      <td>Star Wars: Episode VII - The Force Awakens (2015)</td>\n",
       "      <td>As a new threat to the galaxy rises, Rey, a de...</td>\n",
       "      <td>Walt Disney Studios Motion Pictures</td>\n",
       "      <td>December 16, 2015</td>\n",
       "      <td>936662225</td>\n",
       "      <td>1132859475</td>\n",
       "      <td>2069521700</td>\n",
       "      <td>['Action', 'Adventure', 'Sci-Fi']</td>\n",
       "      <td>2 hr 18 min</td>\n",
       "      <td>PG-13</td>\n",
       "    </tr>\n",
       "    <tr>\n",
       "      <th>1</th>\n",
       "      <td>Avengers: Endgame (2019)</td>\n",
       "      <td>After the devastating events of Avengers: Infi...</td>\n",
       "      <td>Walt Disney Studios Motion Pictures</td>\n",
       "      <td>April 24, 2019</td>\n",
       "      <td>858373000</td>\n",
       "      <td>1939128328</td>\n",
       "      <td>2797501328</td>\n",
       "      <td>['Action', 'Adventure', 'Drama', 'Sci-Fi']</td>\n",
       "      <td>3 hr 1 min</td>\n",
       "      <td>PG-13</td>\n",
       "    </tr>\n",
       "    <tr>\n",
       "      <th>2</th>\n",
       "      <td>Avatar (2009)</td>\n",
       "      <td>A paraplegic Marine dispatched to the moon Pan...</td>\n",
       "      <td>Twentieth Century Fox</td>\n",
       "      <td>December 16, 2009</td>\n",
       "      <td>760507625</td>\n",
       "      <td>2086738578</td>\n",
       "      <td>2847246203</td>\n",
       "      <td>['Action', 'Adventure', 'Fantasy', 'Sci-Fi']</td>\n",
       "      <td>2 hr 42 min</td>\n",
       "      <td>PG-13</td>\n",
       "    </tr>\n",
       "    <tr>\n",
       "      <th>3</th>\n",
       "      <td>Black Panther (2018)</td>\n",
       "      <td>T'Challa, heir to the hidden but advanced king...</td>\n",
       "      <td>Walt Disney Studios Motion Pictures</td>\n",
       "      <td>NaN</td>\n",
       "      <td>700426566</td>\n",
       "      <td>647171407</td>\n",
       "      <td>1347597973</td>\n",
       "      <td>['Action', 'Adventure', 'Sci-Fi']</td>\n",
       "      <td>2 hr 14 min</td>\n",
       "      <td>NaN</td>\n",
       "    </tr>\n",
       "    <tr>\n",
       "      <th>4</th>\n",
       "      <td>Avengers: Infinity War (2018)</td>\n",
       "      <td>The Avengers and their allies must be willing ...</td>\n",
       "      <td>Walt Disney Studios Motion Pictures</td>\n",
       "      <td>NaN</td>\n",
       "      <td>678815482</td>\n",
       "      <td>1369544272</td>\n",
       "      <td>2048359754</td>\n",
       "      <td>['Action', 'Adventure', 'Sci-Fi']</td>\n",
       "      <td>2 hr 29 min</td>\n",
       "      <td>NaN</td>\n",
       "    </tr>\n",
       "  </tbody>\n",
       "</table>\n",
       "</div>"
      ],
      "text/plain": [
       "                                               Title  \\\n",
       "0  Star Wars: Episode VII - The Force Awakens (2015)   \n",
       "1                           Avengers: Endgame (2019)   \n",
       "2                                      Avatar (2009)   \n",
       "3                               Black Panther (2018)   \n",
       "4                      Avengers: Infinity War (2018)   \n",
       "\n",
       "                                          Movie Info  \\\n",
       "0  As a new threat to the galaxy rises, Rey, a de...   \n",
       "1  After the devastating events of Avengers: Infi...   \n",
       "2  A paraplegic Marine dispatched to the moon Pan...   \n",
       "3  T'Challa, heir to the hidden but advanced king...   \n",
       "4  The Avengers and their allies must be willing ...   \n",
       "\n",
       "                           Distributor       Release Date  Domestic_sales  \\\n",
       "0  Walt Disney Studios Motion Pictures  December 16, 2015       936662225   \n",
       "1  Walt Disney Studios Motion Pictures     April 24, 2019       858373000   \n",
       "2                Twentieth Century Fox  December 16, 2009       760507625   \n",
       "3  Walt Disney Studios Motion Pictures                NaN       700426566   \n",
       "4  Walt Disney Studios Motion Pictures                NaN       678815482   \n",
       "\n",
       "   International_sales  World_sales  \\\n",
       "0           1132859475   2069521700   \n",
       "1           1939128328   2797501328   \n",
       "2           2086738578   2847246203   \n",
       "3            647171407   1347597973   \n",
       "4           1369544272   2048359754   \n",
       "\n",
       "                                          Genre Movie Runtime License  \n",
       "0             ['Action', 'Adventure', 'Sci-Fi']   2 hr 18 min   PG-13  \n",
       "1    ['Action', 'Adventure', 'Drama', 'Sci-Fi']    3 hr 1 min   PG-13  \n",
       "2  ['Action', 'Adventure', 'Fantasy', 'Sci-Fi']   2 hr 42 min   PG-13  \n",
       "3             ['Action', 'Adventure', 'Sci-Fi']   2 hr 14 min     NaN  \n",
       "4             ['Action', 'Adventure', 'Sci-Fi']   2 hr 29 min     NaN  "
      ]
     },
     "execution_count": 3,
     "metadata": {},
     "output_type": "execute_result"
    }
   ],
   "source": [
    "df.head()"
   ]
  },
  {
   "cell_type": "markdown",
   "metadata": {},
   "source": [
    "**How many rows and columns are there?**"
   ]
  },
  {
   "cell_type": "code",
   "execution_count": 4,
   "metadata": {},
   "outputs": [
    {
     "name": "stdout",
     "output_type": "stream",
     "text": [
      "<class 'pandas.core.frame.DataFrame'>\n",
      "RangeIndex: 918 entries, 0 to 917\n",
      "Data columns (total 10 columns):\n",
      " #   Column               Non-Null Count  Dtype \n",
      "---  ------               --------------  ----- \n",
      " 0   Title                918 non-null    object\n",
      " 1   Movie Info           918 non-null    object\n",
      " 2   Distributor          918 non-null    object\n",
      " 3   Release Date         800 non-null    object\n",
      " 4   Domestic_sales       918 non-null    int64 \n",
      " 5   International_sales  918 non-null    int64 \n",
      " 6   World_sales          918 non-null    int64 \n",
      " 7   Genre                918 non-null    object\n",
      " 8   Movie Runtime        918 non-null    object\n",
      " 9   License              744 non-null    object\n",
      "dtypes: int64(3), object(7)\n",
      "memory usage: 71.8+ KB\n"
     ]
    }
   ],
   "source": [
    "df.info()"
   ]
  },
  {
   "cell_type": "markdown",
   "metadata": {},
   "source": [
    "**Use the .describe() method to get some statistics for the numeric columns of the data**"
   ]
  },
  {
   "cell_type": "code",
   "execution_count": 5,
   "metadata": {},
   "outputs": [
    {
     "data": {
      "text/html": [
       "<div>\n",
       "<style scoped>\n",
       "    .dataframe tbody tr th:only-of-type {\n",
       "        vertical-align: middle;\n",
       "    }\n",
       "\n",
       "    .dataframe tbody tr th {\n",
       "        vertical-align: top;\n",
       "    }\n",
       "\n",
       "    .dataframe thead th {\n",
       "        text-align: right;\n",
       "    }\n",
       "</style>\n",
       "<table border=\"1\" class=\"dataframe\">\n",
       "  <thead>\n",
       "    <tr style=\"text-align: right;\">\n",
       "      <th></th>\n",
       "      <th>Domestic_sales</th>\n",
       "      <th>International_sales</th>\n",
       "      <th>World_sales</th>\n",
       "    </tr>\n",
       "  </thead>\n",
       "  <tbody>\n",
       "    <tr>\n",
       "      <th>count</th>\n",
       "      <td>9.180000e+02</td>\n",
       "      <td>9.180000e+02</td>\n",
       "      <td>9.180000e+02</td>\n",
       "    </tr>\n",
       "    <tr>\n",
       "      <th>mean</th>\n",
       "      <td>1.677469e+08</td>\n",
       "      <td>2.301434e+08</td>\n",
       "      <td>3.968668e+08</td>\n",
       "    </tr>\n",
       "    <tr>\n",
       "      <th>std</th>\n",
       "      <td>1.040360e+08</td>\n",
       "      <td>2.176011e+08</td>\n",
       "      <td>3.082629e+08</td>\n",
       "    </tr>\n",
       "    <tr>\n",
       "      <th>min</th>\n",
       "      <td>8.036084e+07</td>\n",
       "      <td>2.600000e+02</td>\n",
       "      <td>8.160000e+07</td>\n",
       "    </tr>\n",
       "    <tr>\n",
       "      <th>25%</th>\n",
       "      <td>1.016071e+08</td>\n",
       "      <td>8.845620e+07</td>\n",
       "      <td>2.005564e+08</td>\n",
       "    </tr>\n",
       "    <tr>\n",
       "      <th>50%</th>\n",
       "      <td>1.321351e+08</td>\n",
       "      <td>1.638819e+08</td>\n",
       "      <td>3.019416e+08</td>\n",
       "    </tr>\n",
       "    <tr>\n",
       "      <th>75%</th>\n",
       "      <td>1.913905e+08</td>\n",
       "      <td>2.885577e+08</td>\n",
       "      <td>4.750718e+08</td>\n",
       "    </tr>\n",
       "    <tr>\n",
       "      <th>max</th>\n",
       "      <td>9.366622e+08</td>\n",
       "      <td>2.086739e+09</td>\n",
       "      <td>2.847246e+09</td>\n",
       "    </tr>\n",
       "  </tbody>\n",
       "</table>\n",
       "</div>"
      ],
      "text/plain": [
       "       Domestic_sales  International_sales   World_sales\n",
       "count    9.180000e+02         9.180000e+02  9.180000e+02\n",
       "mean     1.677469e+08         2.301434e+08  3.968668e+08\n",
       "std      1.040360e+08         2.176011e+08  3.082629e+08\n",
       "min      8.036084e+07         2.600000e+02  8.160000e+07\n",
       "25%      1.016071e+08         8.845620e+07  2.005564e+08\n",
       "50%      1.321351e+08         1.638819e+08  3.019416e+08\n",
       "75%      1.913905e+08         2.885577e+08  4.750718e+08\n",
       "max      9.366622e+08         2.086739e+09  2.847246e+09"
      ]
     },
     "execution_count": 5,
     "metadata": {},
     "output_type": "execute_result"
    }
   ],
   "source": [
    "df.describe()"
   ]
  },
  {
   "cell_type": "code",
   "execution_count": null,
   "metadata": {},
   "outputs": [],
   "source": []
  },
  {
   "cell_type": "markdown",
   "metadata": {},
   "source": [
    "**Replace null values of License with most repeated License**\n"
   ]
  },
  {
   "cell_type": "code",
   "execution_count": 6,
   "metadata": {},
   "outputs": [
    {
     "name": "stdout",
     "output_type": "stream",
     "text": [
      "<class 'pandas.core.frame.DataFrame'>\n",
      "RangeIndex: 918 entries, 0 to 917\n",
      "Data columns (total 10 columns):\n",
      " #   Column               Non-Null Count  Dtype \n",
      "---  ------               --------------  ----- \n",
      " 0   Title                918 non-null    object\n",
      " 1   Movie Info           918 non-null    object\n",
      " 2   Distributor          918 non-null    object\n",
      " 3   Release Date         800 non-null    object\n",
      " 4   Domestic_sales       918 non-null    int64 \n",
      " 5   International_sales  918 non-null    int64 \n",
      " 6   World_sales          918 non-null    int64 \n",
      " 7   Genre                918 non-null    object\n",
      " 8   Movie Runtime        918 non-null    object\n",
      " 9   License              918 non-null    object\n",
      "dtypes: int64(3), object(7)\n",
      "memory usage: 71.8+ KB\n"
     ]
    },
    {
     "data": {
      "text/html": [
       "<div>\n",
       "<style scoped>\n",
       "    .dataframe tbody tr th:only-of-type {\n",
       "        vertical-align: middle;\n",
       "    }\n",
       "\n",
       "    .dataframe tbody tr th {\n",
       "        vertical-align: top;\n",
       "    }\n",
       "\n",
       "    .dataframe thead th {\n",
       "        text-align: right;\n",
       "    }\n",
       "</style>\n",
       "<table border=\"1\" class=\"dataframe\">\n",
       "  <thead>\n",
       "    <tr style=\"text-align: right;\">\n",
       "      <th></th>\n",
       "      <th>Title</th>\n",
       "      <th>Movie Info</th>\n",
       "      <th>Distributor</th>\n",
       "      <th>Release Date</th>\n",
       "      <th>Domestic_sales</th>\n",
       "      <th>International_sales</th>\n",
       "      <th>World_sales</th>\n",
       "      <th>Genre</th>\n",
       "      <th>Movie Runtime</th>\n",
       "      <th>License</th>\n",
       "    </tr>\n",
       "  </thead>\n",
       "  <tbody>\n",
       "    <tr>\n",
       "      <th>0</th>\n",
       "      <td>Star Wars: Episode VII - The Force Awakens (2015)</td>\n",
       "      <td>As a new threat to the galaxy rises, Rey, a de...</td>\n",
       "      <td>Walt Disney Studios Motion Pictures</td>\n",
       "      <td>December 16, 2015</td>\n",
       "      <td>936662225</td>\n",
       "      <td>1132859475</td>\n",
       "      <td>2069521700</td>\n",
       "      <td>['Action', 'Adventure', 'Sci-Fi']</td>\n",
       "      <td>2 hr 18 min</td>\n",
       "      <td>PG-13</td>\n",
       "    </tr>\n",
       "    <tr>\n",
       "      <th>1</th>\n",
       "      <td>Avengers: Endgame (2019)</td>\n",
       "      <td>After the devastating events of Avengers: Infi...</td>\n",
       "      <td>Walt Disney Studios Motion Pictures</td>\n",
       "      <td>April 24, 2019</td>\n",
       "      <td>858373000</td>\n",
       "      <td>1939128328</td>\n",
       "      <td>2797501328</td>\n",
       "      <td>['Action', 'Adventure', 'Drama', 'Sci-Fi']</td>\n",
       "      <td>3 hr 1 min</td>\n",
       "      <td>PG-13</td>\n",
       "    </tr>\n",
       "    <tr>\n",
       "      <th>2</th>\n",
       "      <td>Avatar (2009)</td>\n",
       "      <td>A paraplegic Marine dispatched to the moon Pan...</td>\n",
       "      <td>Twentieth Century Fox</td>\n",
       "      <td>December 16, 2009</td>\n",
       "      <td>760507625</td>\n",
       "      <td>2086738578</td>\n",
       "      <td>2847246203</td>\n",
       "      <td>['Action', 'Adventure', 'Fantasy', 'Sci-Fi']</td>\n",
       "      <td>2 hr 42 min</td>\n",
       "      <td>PG-13</td>\n",
       "    </tr>\n",
       "    <tr>\n",
       "      <th>3</th>\n",
       "      <td>Black Panther (2018)</td>\n",
       "      <td>T'Challa, heir to the hidden but advanced king...</td>\n",
       "      <td>Walt Disney Studios Motion Pictures</td>\n",
       "      <td>NaN</td>\n",
       "      <td>700426566</td>\n",
       "      <td>647171407</td>\n",
       "      <td>1347597973</td>\n",
       "      <td>['Action', 'Adventure', 'Sci-Fi']</td>\n",
       "      <td>2 hr 14 min</td>\n",
       "      <td>PG-13</td>\n",
       "    </tr>\n",
       "    <tr>\n",
       "      <th>4</th>\n",
       "      <td>Avengers: Infinity War (2018)</td>\n",
       "      <td>The Avengers and their allies must be willing ...</td>\n",
       "      <td>Walt Disney Studios Motion Pictures</td>\n",
       "      <td>NaN</td>\n",
       "      <td>678815482</td>\n",
       "      <td>1369544272</td>\n",
       "      <td>2048359754</td>\n",
       "      <td>['Action', 'Adventure', 'Sci-Fi']</td>\n",
       "      <td>2 hr 29 min</td>\n",
       "      <td>PG-13</td>\n",
       "    </tr>\n",
       "  </tbody>\n",
       "</table>\n",
       "</div>"
      ],
      "text/plain": [
       "                                               Title  \\\n",
       "0  Star Wars: Episode VII - The Force Awakens (2015)   \n",
       "1                           Avengers: Endgame (2019)   \n",
       "2                                      Avatar (2009)   \n",
       "3                               Black Panther (2018)   \n",
       "4                      Avengers: Infinity War (2018)   \n",
       "\n",
       "                                          Movie Info  \\\n",
       "0  As a new threat to the galaxy rises, Rey, a de...   \n",
       "1  After the devastating events of Avengers: Infi...   \n",
       "2  A paraplegic Marine dispatched to the moon Pan...   \n",
       "3  T'Challa, heir to the hidden but advanced king...   \n",
       "4  The Avengers and their allies must be willing ...   \n",
       "\n",
       "                           Distributor       Release Date  Domestic_sales  \\\n",
       "0  Walt Disney Studios Motion Pictures  December 16, 2015       936662225   \n",
       "1  Walt Disney Studios Motion Pictures     April 24, 2019       858373000   \n",
       "2                Twentieth Century Fox  December 16, 2009       760507625   \n",
       "3  Walt Disney Studios Motion Pictures                NaN       700426566   \n",
       "4  Walt Disney Studios Motion Pictures                NaN       678815482   \n",
       "\n",
       "   International_sales  World_sales  \\\n",
       "0           1132859475   2069521700   \n",
       "1           1939128328   2797501328   \n",
       "2           2086738578   2847246203   \n",
       "3            647171407   1347597973   \n",
       "4           1369544272   2048359754   \n",
       "\n",
       "                                          Genre Movie Runtime License  \n",
       "0             ['Action', 'Adventure', 'Sci-Fi']   2 hr 18 min   PG-13  \n",
       "1    ['Action', 'Adventure', 'Drama', 'Sci-Fi']    3 hr 1 min   PG-13  \n",
       "2  ['Action', 'Adventure', 'Fantasy', 'Sci-Fi']   2 hr 42 min   PG-13  \n",
       "3             ['Action', 'Adventure', 'Sci-Fi']   2 hr 14 min   PG-13  \n",
       "4             ['Action', 'Adventure', 'Sci-Fi']   2 hr 29 min   PG-13  "
      ]
     },
     "execution_count": 6,
     "metadata": {},
     "output_type": "execute_result"
    }
   ],
   "source": [
    "most_repeated_license = df['License'].value_counts().head(1).index.tolist()\n",
    "# print(most_repeated_license[0])\n",
    "\n",
    "df[\"License\"].fillna(most_repeated_license[0], inplace = True)\n",
    "df.info()\n",
    "df.head()\n"
   ]
  },
  {
   "cell_type": "markdown",
   "metadata": {},
   "source": [
    "**Drop films with missing Release Date**"
   ]
  },
  {
   "cell_type": "code",
   "execution_count": 7,
   "metadata": {},
   "outputs": [
    {
     "data": {
      "text/plain": [
       "0      False\n",
       "1      False\n",
       "2      False\n",
       "6      False\n",
       "7      False\n",
       "       ...  \n",
       "913    False\n",
       "914    False\n",
       "915    False\n",
       "916    False\n",
       "917    False\n",
       "Name: Release Date, Length: 800, dtype: bool"
      ]
     },
     "execution_count": 7,
     "metadata": {},
     "output_type": "execute_result"
    }
   ],
   "source": [
    "df.dropna(axis=0, subset=['Release Date'], inplace = True )\n",
    "df['Release Date'].isnull()"
   ]
  },
  {
   "cell_type": "markdown",
   "metadata": {},
   "source": [
    "**Check if there is any missing values or not**"
   ]
  },
  {
   "cell_type": "code",
   "execution_count": 8,
   "metadata": {},
   "outputs": [
    {
     "name": "stdout",
     "output_type": "stream",
     "text": [
      "<class 'pandas.core.frame.DataFrame'>\n",
      "Int64Index: 800 entries, 0 to 917\n",
      "Data columns (total 10 columns):\n",
      " #   Column               Non-Null Count  Dtype \n",
      "---  ------               --------------  ----- \n",
      " 0   Title                800 non-null    object\n",
      " 1   Movie Info           800 non-null    object\n",
      " 2   Distributor          800 non-null    object\n",
      " 3   Release Date         800 non-null    object\n",
      " 4   Domestic_sales       800 non-null    int64 \n",
      " 5   International_sales  800 non-null    int64 \n",
      " 6   World_sales          800 non-null    int64 \n",
      " 7   Genre                800 non-null    object\n",
      " 8   Movie Runtime        800 non-null    object\n",
      " 9   License              800 non-null    object\n",
      "dtypes: int64(3), object(7)\n",
      "memory usage: 68.8+ KB\n"
     ]
    }
   ],
   "source": [
    "df.info()"
   ]
  },
  {
   "cell_type": "markdown",
   "metadata": {},
   "source": [
    "**what are the average International Sales?**"
   ]
  },
  {
   "cell_type": "code",
   "execution_count": 9,
   "metadata": {},
   "outputs": [
    {
     "data": {
      "text/plain": [
       "231525192.4425"
      ]
     },
     "execution_count": 9,
     "metadata": {},
     "output_type": "execute_result"
    }
   ],
   "source": [
    "df['International_sales'].mean()"
   ]
  },
  {
   "cell_type": "markdown",
   "metadata": {},
   "source": [
    "**what are the highest and lowest World Sales?**"
   ]
  },
  {
   "cell_type": "code",
   "execution_count": 10,
   "metadata": {},
   "outputs": [
    {
     "data": {
      "text/plain": [
       "2847246203"
      ]
     },
     "execution_count": 10,
     "metadata": {},
     "output_type": "execute_result"
    }
   ],
   "source": [
    "df['World_sales'].max()"
   ]
  },
  {
   "cell_type": "code",
   "execution_count": 11,
   "metadata": {},
   "outputs": [
    {
     "data": {
      "text/plain": [
       "82604699"
      ]
     },
     "execution_count": 11,
     "metadata": {},
     "output_type": "execute_result"
    }
   ],
   "source": [
    "df['World_sales'].min()"
   ]
  },
  {
   "cell_type": "markdown",
   "metadata": {},
   "source": [
    "**How many films have been distributed by 'DreamWorks'?**"
   ]
  },
  {
   "cell_type": "code",
   "execution_count": 12,
   "metadata": {},
   "outputs": [
    {
     "data": {
      "text/plain": [
       "19"
      ]
     },
     "execution_count": 12,
     "metadata": {},
     "output_type": "execute_result"
    }
   ],
   "source": [
    "df[df['Distributor'] =='DreamWorks' ]['Title'].count()"
   ]
  },
  {
   "cell_type": "markdown",
   "metadata": {},
   "source": [
    "**What are the top 5 common distributer?**\n",
    "**(Hint: Check out [value_counts()](http://pandas.pydata.org/pandas-docs/stable/generated/pandas.Series.value_counts.html) )**"
   ]
  },
  {
   "cell_type": "code",
   "execution_count": 13,
   "metadata": {},
   "outputs": [
    {
     "data": {
      "text/plain": [
       "Warner Bros.                           131\n",
       "Walt Disney Studios Motion Pictures    116\n",
       "Universal Pictures                     114\n",
       "Twentieth Century Fox                  107\n",
       "Sony Pictures Entertainment (SPE)       97\n",
       "Name: Distributor, dtype: int64"
      ]
     },
     "execution_count": 13,
     "metadata": {},
     "output_type": "execute_result"
    }
   ],
   "source": [
    "df['Distributor'].value_counts().head(5)"
   ]
  },
  {
   "cell_type": "markdown",
   "metadata": {},
   "source": [
    "**How many films have licence 'PG-13' and disributed by 'Universal Pictures'**"
   ]
  },
  {
   "cell_type": "code",
   "execution_count": 14,
   "metadata": {},
   "outputs": [
    {
     "data": {
      "text/plain": [
       "64"
      ]
     },
     "execution_count": 14,
     "metadata": {},
     "output_type": "execute_result"
    }
   ],
   "source": [
    "df[(df['Distributor'] =='Universal Pictures') & (df['License'] == 'PG-13')]['Title'].count()"
   ]
  },
  {
   "cell_type": "markdown",
   "metadata": {},
   "source": [
    "**How many films released in 2017?**"
   ]
  },
  {
   "cell_type": "code",
   "execution_count": 15,
   "metadata": {},
   "outputs": [
    {
     "data": {
      "text/plain": [
       "32"
      ]
     },
     "execution_count": 15,
     "metadata": {},
     "output_type": "execute_result"
    }
   ],
   "source": [
    "df['Release Date'] = pd.to_datetime(df['Release Date'])\n",
    "df[df['Release Date'].dt.year== 2017]['Title'].count()\n"
   ]
  },
  {
   "cell_type": "markdown",
   "metadata": {},
   "source": [
    "**How many movies have 'Action' and 'Adventure' Genre?** \n",
    "**(Hint: Check out [eval()](https://www.w3schools.com/python/ref_func_eval.asp) )**"
   ]
  },
  {
   "cell_type": "code",
   "execution_count": 16,
   "metadata": {},
   "outputs": [
    {
     "data": {
      "text/plain": [
       "False    429\n",
       "True     371\n",
       "Name: Genre, dtype: int64"
      ]
     },
     "execution_count": 16,
     "metadata": {},
     "output_type": "execute_result"
    }
   ],
   "source": [
    "# df[df['Genre']== 'Action' and 'Adventure']['Title'].count()\n",
    "df['Genre'].apply(lambda x:'Action' and'Adventure' in x ).value_counts()\n",
    "# df['Genre'].value_counts()"
   ]
  },
  {
   "cell_type": "code",
   "execution_count": null,
   "metadata": {},
   "outputs": [],
   "source": []
  },
  {
   "cell_type": "markdown",
   "metadata": {},
   "source": [
    "**What is the  film title with Longest runtime?**"
   ]
  },
  {
   "cell_type": "code",
   "execution_count": 17,
   "metadata": {},
   "outputs": [],
   "source": [
    "def split_runtime(runtime,typ):\n",
    "    lst=runtime.split(' ')\n",
    "    if typ=='hr':\n",
    "        return int(lst[0])\n",
    "    elif (typ=='min') and (len(lst)>2):\n",
    "        return int(lst[2])\n",
    "    else:\n",
    "        return 0"
   ]
  },
  {
   "cell_type": "code",
   "execution_count": 18,
   "metadata": {},
   "outputs": [],
   "source": [
    "df['hours']=df['Movie Runtime'].apply(lambda x : split_runtime(x,'hr'))"
   ]
  },
  {
   "cell_type": "code",
   "execution_count": 19,
   "metadata": {},
   "outputs": [],
   "source": [
    "df['minutes']=df['Movie Runtime'].apply(lambda x : split_runtime(x,'min'))"
   ]
  },
  {
   "cell_type": "code",
   "execution_count": 20,
   "metadata": {},
   "outputs": [],
   "source": [
    "df['total_time']= df['hours']*60 + df['minutes']\n"
   ]
  },
  {
   "cell_type": "code",
   "execution_count": 21,
   "metadata": {},
   "outputs": [
    {
     "data": {
      "text/html": [
       "<div>\n",
       "<style scoped>\n",
       "    .dataframe tbody tr th:only-of-type {\n",
       "        vertical-align: middle;\n",
       "    }\n",
       "\n",
       "    .dataframe tbody tr th {\n",
       "        vertical-align: top;\n",
       "    }\n",
       "\n",
       "    .dataframe thead th {\n",
       "        text-align: right;\n",
       "    }\n",
       "</style>\n",
       "<table border=\"1\" class=\"dataframe\">\n",
       "  <thead>\n",
       "    <tr style=\"text-align: right;\">\n",
       "      <th></th>\n",
       "      <th>Title</th>\n",
       "      <th>Movie Info</th>\n",
       "      <th>Distributor</th>\n",
       "      <th>Release Date</th>\n",
       "      <th>Domestic_sales</th>\n",
       "      <th>International_sales</th>\n",
       "      <th>World_sales</th>\n",
       "      <th>Genre</th>\n",
       "      <th>Movie Runtime</th>\n",
       "      <th>License</th>\n",
       "      <th>hours</th>\n",
       "      <th>minutes</th>\n",
       "      <th>total_time</th>\n",
       "    </tr>\n",
       "  </thead>\n",
       "  <tbody>\n",
       "    <tr>\n",
       "      <th>913</th>\n",
       "      <td>The Notebook (2004)</td>\n",
       "      <td>A poor yet passionate young man falls in love ...</td>\n",
       "      <td>New Line Cinema</td>\n",
       "      <td>2004-06-25</td>\n",
       "      <td>81001787</td>\n",
       "      <td>36813370</td>\n",
       "      <td>117815157</td>\n",
       "      <td>['Drama', 'Romance']</td>\n",
       "      <td>2 hr 3 min</td>\n",
       "      <td>PG-13</td>\n",
       "      <td>2</td>\n",
       "      <td>3</td>\n",
       "      <td>123</td>\n",
       "    </tr>\n",
       "    <tr>\n",
       "      <th>914</th>\n",
       "      <td>Jimmy Neutron: Boy Genius (2001)</td>\n",
       "      <td>An eight-year-old boy genius and his friends m...</td>\n",
       "      <td>Paramount Pictures</td>\n",
       "      <td>2001-12-21</td>\n",
       "      <td>80936232</td>\n",
       "      <td>22056304</td>\n",
       "      <td>102992536</td>\n",
       "      <td>['Action', 'Adventure', 'Animation', 'Comedy',...</td>\n",
       "      <td>1 hr 22 min</td>\n",
       "      <td>PG-13</td>\n",
       "      <td>1</td>\n",
       "      <td>22</td>\n",
       "      <td>82</td>\n",
       "    </tr>\n",
       "    <tr>\n",
       "      <th>915</th>\n",
       "      <td>Eat Pray Love (2010)</td>\n",
       "      <td>A married woman realizes how unhappy her marri...</td>\n",
       "      <td>Sony Pictures Entertainment (SPE)</td>\n",
       "      <td>2010-08-13</td>\n",
       "      <td>80574010</td>\n",
       "      <td>124020006</td>\n",
       "      <td>204594016</td>\n",
       "      <td>['Biography', 'Drama', 'Romance']</td>\n",
       "      <td>2 hr 13 min</td>\n",
       "      <td>PG-13</td>\n",
       "      <td>2</td>\n",
       "      <td>13</td>\n",
       "      <td>133</td>\n",
       "    </tr>\n",
       "    <tr>\n",
       "      <th>916</th>\n",
       "      <td>The Texas Chainsaw Massacre (2003)</td>\n",
       "      <td>After picking up a traumatized young hitchhike...</td>\n",
       "      <td>New Line Cinema</td>\n",
       "      <td>2003-10-17</td>\n",
       "      <td>80571655</td>\n",
       "      <td>26792250</td>\n",
       "      <td>107363905</td>\n",
       "      <td>['Crime', 'Horror']</td>\n",
       "      <td>1 hr 38 min</td>\n",
       "      <td>R</td>\n",
       "      <td>1</td>\n",
       "      <td>38</td>\n",
       "      <td>98</td>\n",
       "    </tr>\n",
       "    <tr>\n",
       "      <th>917</th>\n",
       "      <td>Zookeeper (2011)</td>\n",
       "      <td>A group of zoo animals decide to break their c...</td>\n",
       "      <td>Sony Pictures Entertainment (SPE)</td>\n",
       "      <td>2011-07-06</td>\n",
       "      <td>80360843</td>\n",
       "      <td>89491916</td>\n",
       "      <td>169852759</td>\n",
       "      <td>['Comedy', 'Family', 'Fantasy', 'Romance']</td>\n",
       "      <td>1 hr 42 min</td>\n",
       "      <td>PG</td>\n",
       "      <td>1</td>\n",
       "      <td>42</td>\n",
       "      <td>102</td>\n",
       "    </tr>\n",
       "  </tbody>\n",
       "</table>\n",
       "</div>"
      ],
      "text/plain": [
       "                                  Title  \\\n",
       "913                 The Notebook (2004)   \n",
       "914    Jimmy Neutron: Boy Genius (2001)   \n",
       "915                Eat Pray Love (2010)   \n",
       "916  The Texas Chainsaw Massacre (2003)   \n",
       "917                    Zookeeper (2011)   \n",
       "\n",
       "                                            Movie Info  \\\n",
       "913  A poor yet passionate young man falls in love ...   \n",
       "914  An eight-year-old boy genius and his friends m...   \n",
       "915  A married woman realizes how unhappy her marri...   \n",
       "916  After picking up a traumatized young hitchhike...   \n",
       "917  A group of zoo animals decide to break their c...   \n",
       "\n",
       "                           Distributor Release Date  Domestic_sales  \\\n",
       "913                    New Line Cinema   2004-06-25        81001787   \n",
       "914                 Paramount Pictures   2001-12-21        80936232   \n",
       "915  Sony Pictures Entertainment (SPE)   2010-08-13        80574010   \n",
       "916                    New Line Cinema   2003-10-17        80571655   \n",
       "917  Sony Pictures Entertainment (SPE)   2011-07-06        80360843   \n",
       "\n",
       "     International_sales  World_sales  \\\n",
       "913             36813370    117815157   \n",
       "914             22056304    102992536   \n",
       "915            124020006    204594016   \n",
       "916             26792250    107363905   \n",
       "917             89491916    169852759   \n",
       "\n",
       "                                                 Genre Movie Runtime License  \\\n",
       "913                               ['Drama', 'Romance']    2 hr 3 min   PG-13   \n",
       "914  ['Action', 'Adventure', 'Animation', 'Comedy',...   1 hr 22 min   PG-13   \n",
       "915                  ['Biography', 'Drama', 'Romance']   2 hr 13 min   PG-13   \n",
       "916                                ['Crime', 'Horror']   1 hr 38 min       R   \n",
       "917         ['Comedy', 'Family', 'Fantasy', 'Romance']   1 hr 42 min      PG   \n",
       "\n",
       "     hours  minutes  total_time  \n",
       "913      2        3         123  \n",
       "914      1       22          82  \n",
       "915      2       13         133  \n",
       "916      1       38          98  \n",
       "917      1       42         102  "
      ]
     },
     "execution_count": 21,
     "metadata": {},
     "output_type": "execute_result"
    }
   ],
   "source": [
    "df.tail()"
   ]
  },
  {
   "cell_type": "code",
   "execution_count": 22,
   "metadata": {},
   "outputs": [
    {
     "data": {
      "text/plain": [
       "total_time\n",
       "201    The Lord of the Rings: The Return of the King ...\n",
       "Name: Title, dtype: object"
      ]
     },
     "execution_count": 22,
     "metadata": {},
     "output_type": "execute_result"
    }
   ],
   "source": [
    "# df[df['minutes']==df['minutes'].max()]\n",
    "# df.groupby('Title').max()['hours'].sort_values()\n",
    "\n",
    "df.groupby('total_time').max()['Title'].tail(1)\n"
   ]
  },
  {
   "cell_type": "code",
   "execution_count": null,
   "metadata": {},
   "outputs": [],
   "source": []
  },
  {
   "cell_type": "markdown",
   "metadata": {},
   "source": [
    "**What is the  film title with Shortest runtime?**"
   ]
  },
  {
   "cell_type": "code",
   "execution_count": 23,
   "metadata": {},
   "outputs": [
    {
     "data": {
      "text/plain": [
       "total_time\n",
       "78    Inspector Gadget (1999)\n",
       "Name: Title, dtype: object"
      ]
     },
     "execution_count": 23,
     "metadata": {},
     "output_type": "execute_result"
    }
   ],
   "source": [
    "df.groupby('total_time')['Title'].min().head(1)"
   ]
  },
  {
   "cell_type": "markdown",
   "metadata": {},
   "source": [
    "# Great Job!"
   ]
  },
  {
   "cell_type": "code",
   "execution_count": null,
   "metadata": {},
   "outputs": [],
   "source": []
  },
  {
   "cell_type": "code",
   "execution_count": null,
   "metadata": {},
   "outputs": [],
   "source": []
  }
 ],
 "metadata": {
  "kernelspec": {
   "display_name": "Python 3 (ipykernel)",
   "language": "python",
   "name": "python3"
  },
  "language_info": {
   "codemirror_mode": {
    "name": "ipython",
    "version": 3
   },
   "file_extension": ".py",
   "mimetype": "text/x-python",
   "name": "python",
   "nbconvert_exporter": "python",
   "pygments_lexer": "ipython3",
   "version": "3.9.12"
  }
 },
 "nbformat": 4,
 "nbformat_minor": 4
}
